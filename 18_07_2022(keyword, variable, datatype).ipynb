{
 "cells": [
  {
   "cell_type": "markdown",
   "id": "24f06d64",
   "metadata": {},
   "source": [
    "# Keywords:"
   ]
  },
  {
   "cell_type": "raw",
   "id": "95088a5f",
   "metadata": {},
   "source": [
    "\n",
    "Python has a set of keywords that are also known as reserved words, which can’t be used as variable name, function name or any identifiers.\n",
    "•\tThere are several keywords available in python such as True, False, if, while, break, pass, continue, class, elif etc.\n"
   ]
  },
  {
   "cell_type": "markdown",
   "id": "de6f0e23",
   "metadata": {},
   "source": [
    "# Identifier:"
   ]
  },
  {
   "cell_type": "raw",
   "id": "ccd70123",
   "metadata": {},
   "source": [
    "Any name in python programming is known as identifier.\n",
    "\tThe name may be a variable name or function name or a class name or any collection name etc.\n",
    "\n",
    "\n",
    "Rules for valid and invalid identifier:\n",
    "\n",
    "The following characteristics are allowed for valid identifier.\n",
    "(A-Z, a-z, 0-9, underscore (_)  )\n",
    "\tSince digits are allowed but first character shouldn’t be a digit.\n",
    "Ex: 12ram=25(invalid as it started with number.)\n",
    "\tKeywords are never considered as identifier.\n",
    "Ex: if=500(invalid as if is a keyword) \n",
    "\tThere is no limited length of an identifier.\n",
    "Ex: xxxxxxxxxxxxxxx=300 (it is also valid identifier but not recommended.)\n",
    "\tIdentifiers name are case sensitive.\n",
    "Ex: Number=100\n",
    "      number=100\n",
    "      NUMBER=100\n",
    "All the above 3 identifiers are different based on case sensitive point of view.\n"
   ]
  },
  {
   "cell_type": "raw",
   "id": "9e920a5d",
   "metadata": {},
   "source": [
    "a)\tName=’raj’  (valid)\n",
    "b)\t_abc=25       (valid)\n",
    "c)\t@abc=45     (invalid)\n",
    "d)\t123av=3       (Invalid)\n",
    "e)\tWhile=12     (Invalid)\n",
    "f)\tAbc12=true  (Valid)\n",
    "g)\tBbbbbbbbbbbbb=2  (valid)\n"
   ]
  },
  {
   "cell_type": "markdown",
   "id": "68248b5f",
   "metadata": {},
   "source": [
    "# Variable:"
   ]
  },
  {
   "cell_type": "raw",
   "id": "8a725a70",
   "metadata": {},
   "source": [
    "A variable is a named memory allocation and the value may vary at time of execution.\n",
    "•\tSimply variables are containers which stores data values.\n",
    "•\tPython has no command for declaring a variable. It is dynamically typed. \n",
    "•\tA variable is created at that moment when we need to assign a value to it.\n",
    "•\tVariable names are case sensitive.\n"
   ]
  },
  {
   "cell_type": "markdown",
   "id": "0a82612e",
   "metadata": {},
   "source": [
    "# Data type:"
   ]
  },
  {
   "cell_type": "raw",
   "id": "0807e8d4",
   "metadata": {},
   "source": [
    "\n",
    "It represents what kind of data to be used.\n",
    "•\tThere are different types of data type are available such as-\n",
    "                A.\tNumeric\n",
    "                B.\tString\n",
    "                C.\tBoolean\n",
    "type() is used to know the data type of a variable.\n"
   ]
  },
  {
   "cell_type": "markdown",
   "id": "ecbec047",
   "metadata": {},
   "source": [
    "## a)\tNumeric data_type:"
   ]
  },
  {
   "cell_type": "raw",
   "id": "75faf980",
   "metadata": {},
   "source": [
    "It represents the data which are in numerical format. Numerical value can be integer, floating point or complex numbers.\n",
    "\n",
    "1)\tInteger:\n",
    "Here values are represented by int class. It contains positive or negative whole number. \n",
    "•\tHere there is no limit to how long an integer value can be.\n",
    "For eg - 3, 45, -56, -1 etc.\n",
    "2)\tFloat:\n",
    "Here values are represented by float class. It is specified by a decimal point.\n",
    "For eg- 2.35, 3.0, 56.78989 etc.\n",
    "3)\tComplex Number:\n",
    "Here values are represented by complex class. \n",
    "•\tIt is specified as real part and imaginary part.\n",
    "For eg- 2+3j,  2-4j, 5+6j etc.\n"
   ]
  },
  {
   "cell_type": "code",
   "execution_count": 1,
   "id": "68d90aae",
   "metadata": {},
   "outputs": [],
   "source": [
    "x = 5"
   ]
  },
  {
   "cell_type": "code",
   "execution_count": 2,
   "id": "705dcac5",
   "metadata": {},
   "outputs": [
    {
     "data": {
      "text/plain": [
       "int"
      ]
     },
     "execution_count": 2,
     "metadata": {},
     "output_type": "execute_result"
    }
   ],
   "source": [
    "type(x)"
   ]
  },
  {
   "cell_type": "code",
   "execution_count": 3,
   "id": "f206f8ce",
   "metadata": {},
   "outputs": [],
   "source": [
    "y = -3"
   ]
  },
  {
   "cell_type": "code",
   "execution_count": 4,
   "id": "95f4ca80",
   "metadata": {},
   "outputs": [
    {
     "data": {
      "text/plain": [
       "int"
      ]
     },
     "execution_count": 4,
     "metadata": {},
     "output_type": "execute_result"
    }
   ],
   "source": [
    "type(y)"
   ]
  },
  {
   "cell_type": "code",
   "execution_count": 5,
   "id": "31811241",
   "metadata": {},
   "outputs": [],
   "source": [
    "z = 3.45"
   ]
  },
  {
   "cell_type": "code",
   "execution_count": 6,
   "id": "efec7d07",
   "metadata": {},
   "outputs": [
    {
     "data": {
      "text/plain": [
       "float"
      ]
     },
     "execution_count": 6,
     "metadata": {},
     "output_type": "execute_result"
    }
   ],
   "source": [
    "type(z)"
   ]
  },
  {
   "cell_type": "code",
   "execution_count": 7,
   "id": "9d33b6d1",
   "metadata": {},
   "outputs": [],
   "source": [
    "a  = 3+4j"
   ]
  },
  {
   "cell_type": "code",
   "execution_count": 8,
   "id": "3fbf2cca",
   "metadata": {},
   "outputs": [
    {
     "data": {
      "text/plain": [
       "complex"
      ]
     },
     "execution_count": 8,
     "metadata": {},
     "output_type": "execute_result"
    }
   ],
   "source": [
    "type(a)"
   ]
  },
  {
   "cell_type": "markdown",
   "id": "877108c5",
   "metadata": {},
   "source": [
    "## b)\tString Data_Type: "
   ]
  },
  {
   "cell_type": "raw",
   "id": "729d6138",
   "metadata": {},
   "source": [
    "Strings are the sequences of character quoted in a single quote, double quote or triple quote. \n",
    "•\tIn python there is no character data type, a character is a string of length 1.\n",
    "•\tIt is represented by str class.\n"
   ]
  },
  {
   "cell_type": "code",
   "execution_count": 9,
   "id": "dc359f89",
   "metadata": {},
   "outputs": [],
   "source": [
    "str = \"a\""
   ]
  },
  {
   "cell_type": "code",
   "execution_count": 10,
   "id": "a1d3c823",
   "metadata": {},
   "outputs": [
    {
     "data": {
      "text/plain": [
       "str"
      ]
     },
     "execution_count": 10,
     "metadata": {},
     "output_type": "execute_result"
    }
   ],
   "source": [
    "type(str)"
   ]
  },
  {
   "cell_type": "code",
   "execution_count": 11,
   "id": "0cda324a",
   "metadata": {},
   "outputs": [],
   "source": [
    "str_2 = \"Ram\""
   ]
  },
  {
   "cell_type": "code",
   "execution_count": 12,
   "id": "48047d49",
   "metadata": {},
   "outputs": [
    {
     "data": {
      "text/plain": [
       "'Ram'"
      ]
     },
     "execution_count": 12,
     "metadata": {},
     "output_type": "execute_result"
    }
   ],
   "source": [
    "str_2"
   ]
  },
  {
   "cell_type": "code",
   "execution_count": 13,
   "id": "19fbc29c",
   "metadata": {},
   "outputs": [],
   "source": [
    "str_3 = 'Ram is learning data type in python'"
   ]
  },
  {
   "cell_type": "code",
   "execution_count": 14,
   "id": "217131eb",
   "metadata": {},
   "outputs": [
    {
     "data": {
      "text/plain": [
       "'Ram is learning data type in python'"
      ]
     },
     "execution_count": 14,
     "metadata": {},
     "output_type": "execute_result"
    }
   ],
   "source": [
    "str_3"
   ]
  },
  {
   "cell_type": "code",
   "execution_count": 15,
   "id": "54098f9d",
   "metadata": {},
   "outputs": [],
   "source": [
    "str_4 = '''Ram is learning data type in python'''"
   ]
  },
  {
   "cell_type": "code",
   "execution_count": 16,
   "id": "9d2f8732",
   "metadata": {},
   "outputs": [
    {
     "data": {
      "text/plain": [
       "'Ram is learning data type in python'"
      ]
     },
     "execution_count": 16,
     "metadata": {},
     "output_type": "execute_result"
    }
   ],
   "source": [
    "str_4"
   ]
  },
  {
   "cell_type": "code",
   "execution_count": 17,
   "id": "0a9b09bd",
   "metadata": {},
   "outputs": [
    {
     "data": {
      "text/plain": [
       "str"
      ]
     },
     "execution_count": 17,
     "metadata": {},
     "output_type": "execute_result"
    }
   ],
   "source": [
    "type(str_4)"
   ]
  },
  {
   "cell_type": "markdown",
   "id": "d6c2e0e3",
   "metadata": {},
   "source": [
    "# Boolean Data_type"
   ]
  },
  {
   "cell_type": "raw",
   "id": "766c429f",
   "metadata": {},
   "source": [
    "Boolean data types have two value i.e. (True or False).\n",
    "\tIt is represented by class bool.\n",
    "\tTrue and False must have first letter is capital, otherwise python interpreter will throw an error.\n"
   ]
  },
  {
   "cell_type": "code",
   "execution_count": 18,
   "id": "2fcbcc8b",
   "metadata": {},
   "outputs": [],
   "source": [
    "t = True"
   ]
  },
  {
   "cell_type": "code",
   "execution_count": 19,
   "id": "bd7abd3a",
   "metadata": {},
   "outputs": [
    {
     "data": {
      "text/plain": [
       "bool"
      ]
     },
     "execution_count": 19,
     "metadata": {},
     "output_type": "execute_result"
    }
   ],
   "source": [
    "type(t)"
   ]
  },
  {
   "cell_type": "code",
   "execution_count": 20,
   "id": "1f89da5a",
   "metadata": {},
   "outputs": [],
   "source": [
    "T = \"True\""
   ]
  },
  {
   "cell_type": "code",
   "execution_count": 21,
   "id": "7782c6aa",
   "metadata": {},
   "outputs": [
    {
     "data": {
      "text/plain": [
       "str"
      ]
     },
     "execution_count": 21,
     "metadata": {},
     "output_type": "execute_result"
    }
   ],
   "source": [
    "type(T)"
   ]
  },
  {
   "cell_type": "code",
   "execution_count": 22,
   "id": "589c1a8e",
   "metadata": {},
   "outputs": [],
   "source": [
    "f = False"
   ]
  },
  {
   "cell_type": "code",
   "execution_count": 23,
   "id": "f7bbe1d2",
   "metadata": {},
   "outputs": [
    {
     "data": {
      "text/plain": [
       "bool"
      ]
     },
     "execution_count": 23,
     "metadata": {},
     "output_type": "execute_result"
    }
   ],
   "source": [
    "type(f)"
   ]
  },
  {
   "cell_type": "code",
   "execution_count": 24,
   "id": "1f2be52e",
   "metadata": {},
   "outputs": [],
   "source": [
    "F = \"False\""
   ]
  },
  {
   "cell_type": "code",
   "execution_count": 25,
   "id": "a6174bfe",
   "metadata": {},
   "outputs": [
    {
     "data": {
      "text/plain": [
       "str"
      ]
     },
     "execution_count": 25,
     "metadata": {},
     "output_type": "execute_result"
    }
   ],
   "source": [
    "type(F)"
   ]
  },
  {
   "cell_type": "code",
   "execution_count": 26,
   "id": "088fd5d0",
   "metadata": {
    "scrolled": true
   },
   "outputs": [
    {
     "data": {
      "text/plain": [
       "True"
      ]
     },
     "execution_count": 26,
     "metadata": {},
     "output_type": "execute_result"
    }
   ],
   "source": [
    "bool(True)"
   ]
  },
  {
   "cell_type": "code",
   "execution_count": 27,
   "id": "ecd7127a",
   "metadata": {},
   "outputs": [
    {
     "data": {
      "text/plain": [
       "False"
      ]
     },
     "execution_count": 27,
     "metadata": {},
     "output_type": "execute_result"
    }
   ],
   "source": [
    "bool(False)"
   ]
  },
  {
   "cell_type": "code",
   "execution_count": 28,
   "id": "68e92fdd",
   "metadata": {},
   "outputs": [
    {
     "data": {
      "text/plain": [
       "True"
      ]
     },
     "execution_count": 28,
     "metadata": {},
     "output_type": "execute_result"
    }
   ],
   "source": [
    "bool(\"False\")"
   ]
  },
  {
   "cell_type": "code",
   "execution_count": 29,
   "id": "e82dec0d",
   "metadata": {},
   "outputs": [
    {
     "data": {
      "text/plain": [
       "True"
      ]
     },
     "execution_count": 29,
     "metadata": {},
     "output_type": "execute_result"
    }
   ],
   "source": [
    "bool(\"True\")"
   ]
  },
  {
   "cell_type": "code",
   "execution_count": 30,
   "id": "46729f6a",
   "metadata": {},
   "outputs": [
    {
     "data": {
      "text/plain": [
       "True"
      ]
     },
     "execution_count": 30,
     "metadata": {},
     "output_type": "execute_result"
    }
   ],
   "source": [
    "bool(9)"
   ]
  },
  {
   "cell_type": "code",
   "execution_count": 31,
   "id": "64952784",
   "metadata": {},
   "outputs": [
    {
     "data": {
      "text/plain": [
       "False"
      ]
     },
     "execution_count": 31,
     "metadata": {},
     "output_type": "execute_result"
    }
   ],
   "source": [
    "bool(0)"
   ]
  },
  {
   "cell_type": "code",
   "execution_count": 32,
   "id": "88090772",
   "metadata": {},
   "outputs": [
    {
     "data": {
      "text/plain": [
       "True"
      ]
     },
     "execution_count": 32,
     "metadata": {},
     "output_type": "execute_result"
    }
   ],
   "source": [
    "bool(-1)"
   ]
  },
  {
   "cell_type": "code",
   "execution_count": 33,
   "id": "b56bc280",
   "metadata": {},
   "outputs": [
    {
     "data": {
      "text/plain": [
       "True"
      ]
     },
     "execution_count": 33,
     "metadata": {},
     "output_type": "execute_result"
    }
   ],
   "source": [
    "bool([1, 5, 9])"
   ]
  },
  {
   "cell_type": "code",
   "execution_count": 34,
   "id": "46f51552",
   "metadata": {},
   "outputs": [
    {
     "data": {
      "text/plain": [
       "False"
      ]
     },
     "execution_count": 34,
     "metadata": {},
     "output_type": "execute_result"
    }
   ],
   "source": [
    "bool([])"
   ]
  },
  {
   "cell_type": "code",
   "execution_count": 35,
   "id": "01cae227",
   "metadata": {},
   "outputs": [
    {
     "data": {
      "text/plain": [
       "True"
      ]
     },
     "execution_count": 35,
     "metadata": {},
     "output_type": "execute_result"
    }
   ],
   "source": [
    "bool(\" \")"
   ]
  },
  {
   "cell_type": "code",
   "execution_count": 36,
   "id": "25b9c13d",
   "metadata": {},
   "outputs": [
    {
     "data": {
      "text/plain": [
       "False"
      ]
     },
     "execution_count": 36,
     "metadata": {},
     "output_type": "execute_result"
    }
   ],
   "source": [
    "bool(\"\")"
   ]
  },
  {
   "cell_type": "code",
   "execution_count": null,
   "id": "d36e6367",
   "metadata": {},
   "outputs": [],
   "source": []
  }
 ],
 "metadata": {
  "kernelspec": {
   "display_name": "Python 3 (ipykernel)",
   "language": "python",
   "name": "python3"
  },
  "language_info": {
   "codemirror_mode": {
    "name": "ipython",
    "version": 3
   },
   "file_extension": ".py",
   "mimetype": "text/x-python",
   "name": "python",
   "nbconvert_exporter": "python",
   "pygments_lexer": "ipython3",
   "version": "3.9.7"
  }
 },
 "nbformat": 4,
 "nbformat_minor": 5
}
