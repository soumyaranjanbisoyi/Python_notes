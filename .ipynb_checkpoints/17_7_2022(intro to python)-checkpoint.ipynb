{
 "cells": [
  {
   "cell_type": "markdown",
   "id": "c3cde4c3",
   "metadata": {},
   "source": [
    "# Introduction to python:"
   ]
  },
  {
   "cell_type": "markdown",
   "id": "367f54a2",
   "metadata": {},
   "source": [
    "Python was developed by “Guido Van Rossum”.He developed python by taking many concepts from many programming languages which is as follows:\n",
    "a)\tFunctional Programming approach from C.\n",
    "b)\tOOPS concept from C++.\n",
    "c)\tScripting concept from shell script and perl.\n",
    "d)\tModular programming approach from MODULA-3.\n",
    "e)\tSyntax concept from C and ABC language.\n",
    "Python is a general purpose, high level and interpreted programming language.\n"
   ]
  },
  {
   "cell_type": "markdown",
   "id": "2cf29518",
   "metadata": {},
   "source": [
    "# Features of Python:"
   ]
  },
  {
   "cell_type": "markdown",
   "id": "eea5e05a",
   "metadata": {},
   "source": [
    "\n",
    "\n",
    "\tEasy to learn.\n",
    "\tPortable.\n",
    "\tExtendable.\n",
    "\tScalable.\n",
    "\tPlatform independent.\n",
    "\tSupports OOPS concept.\n",
    "\tGUI programming support.\n",
    "\tDynamically typed.\n"
   ]
  },
  {
   "cell_type": "markdown",
   "id": "3de5803d",
   "metadata": {},
   "source": [
    "# Our First Python Program"
   ]
  },
  {
   "cell_type": "markdown",
   "id": "2582d4f5",
   "metadata": {},
   "source": [
    "WAP TO PRINT WELCOME TO PYTHON."
   ]
  },
  {
   "cell_type": "code",
   "execution_count": 16,
   "id": "165e281f",
   "metadata": {},
   "outputs": [
    {
     "name": "stdout",
     "output_type": "stream",
     "text": [
      "Welcome to python\n"
     ]
    }
   ],
   "source": [
    "print(\"Welcome to python\")"
   ]
  },
  {
   "cell_type": "markdown",
   "id": "9b05c7ae",
   "metadata": {},
   "source": [
    "# Python as a Calculator"
   ]
  },
  {
   "cell_type": "code",
   "execution_count": 17,
   "id": "279abf77",
   "metadata": {},
   "outputs": [
    {
     "data": {
      "text/plain": [
       "8"
      ]
     },
     "execution_count": 17,
     "metadata": {},
     "output_type": "execute_result"
    }
   ],
   "source": [
    "5+3"
   ]
  },
  {
   "cell_type": "code",
   "execution_count": 18,
   "id": "9de7220e",
   "metadata": {},
   "outputs": [
    {
     "data": {
      "text/plain": [
       "2"
      ]
     },
     "execution_count": 18,
     "metadata": {},
     "output_type": "execute_result"
    }
   ],
   "source": [
    "5-3"
   ]
  },
  {
   "cell_type": "code",
   "execution_count": 19,
   "id": "799bbfc2",
   "metadata": {},
   "outputs": [
    {
     "data": {
      "text/plain": [
       "15"
      ]
     },
     "execution_count": 19,
     "metadata": {},
     "output_type": "execute_result"
    }
   ],
   "source": [
    "5*3"
   ]
  },
  {
   "cell_type": "code",
   "execution_count": 20,
   "id": "a9dd61c8",
   "metadata": {},
   "outputs": [
    {
     "data": {
      "text/plain": [
       "1.6666666666666667"
      ]
     },
     "execution_count": 20,
     "metadata": {},
     "output_type": "execute_result"
    }
   ],
   "source": [
    "5/3                      #It will return the quotient in decimal"
   ]
  },
  {
   "cell_type": "code",
   "execution_count": 21,
   "id": "74aa3099",
   "metadata": {},
   "outputs": [
    {
     "data": {
      "text/plain": [
       "1"
      ]
     },
     "execution_count": 21,
     "metadata": {},
     "output_type": "execute_result"
    }
   ],
   "source": [
    "5//3                    #It will return the quotient in whole number"
   ]
  },
  {
   "cell_type": "code",
   "execution_count": 22,
   "id": "769fcc54",
   "metadata": {},
   "outputs": [
    {
     "data": {
      "text/plain": [
       "2"
      ]
     },
     "execution_count": 22,
     "metadata": {},
     "output_type": "execute_result"
    }
   ],
   "source": [
    "5%3                    #It will return the reminder"
   ]
  },
  {
   "cell_type": "code",
   "execution_count": 23,
   "id": "29648bb6",
   "metadata": {},
   "outputs": [
    {
     "data": {
      "text/plain": [
       "125"
      ]
     },
     "execution_count": 23,
     "metadata": {},
     "output_type": "execute_result"
    }
   ],
   "source": [
    "5**3                   #It will return value as x to the power y here 5 to the power 3"
   ]
  },
  {
   "cell_type": "code",
   "execution_count": null,
   "id": "6cfa6819",
   "metadata": {},
   "outputs": [],
   "source": []
  }
 ],
 "metadata": {
  "kernelspec": {
   "display_name": "Python 3 (ipykernel)",
   "language": "python",
   "name": "python3"
  },
  "language_info": {
   "codemirror_mode": {
    "name": "ipython",
    "version": 3
   },
   "file_extension": ".py",
   "mimetype": "text/x-python",
   "name": "python",
   "nbconvert_exporter": "python",
   "pygments_lexer": "ipython3",
   "version": "3.9.7"
  }
 },
 "nbformat": 4,
 "nbformat_minor": 5
}
