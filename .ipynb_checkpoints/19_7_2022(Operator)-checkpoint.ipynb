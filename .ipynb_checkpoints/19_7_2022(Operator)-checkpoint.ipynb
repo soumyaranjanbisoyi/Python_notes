{
 "cells": [
  {
   "cell_type": "markdown",
   "id": "3283b7ab",
   "metadata": {},
   "source": [
    "# Operator:"
   ]
  },
  {
   "cell_type": "markdown",
   "id": "70143c87",
   "metadata": {},
   "source": [
    "An operator is a symbol which performs an operation and upon which the operation acts is known as Operand.\n",
    "\t\t\t10 + 5=15\n",
    "In the above example 10 and 5 are  known as operand and + is known as operator.\n"
   ]
  },
  {
   "cell_type": "markdown",
   "id": "8ba8ffbb",
   "metadata": {},
   "source": [
    "•\tPython provides 7 types of operator, such as-"
   ]
  },
  {
   "cell_type": "markdown",
   "id": "cdc32446",
   "metadata": {},
   "source": [
    "i.\tArithmatic operator"
   ]
  },
  {
   "cell_type": "markdown",
   "id": "e208d14e",
   "metadata": {},
   "source": [
    "ii.\tAssignment operator\n"
   ]
  },
  {
   "cell_type": "markdown",
   "id": "0154d38b",
   "metadata": {},
   "source": [
    "iii.\tBitwise operator"
   ]
  },
  {
   "cell_type": "markdown",
   "id": "4210c66b",
   "metadata": {},
   "source": [
    "iv.\tComparision operator"
   ]
  },
  {
   "cell_type": "markdown",
   "id": "655ef3b5",
   "metadata": {},
   "source": [
    "v.\tIdentity operator"
   ]
  },
  {
   "cell_type": "markdown",
   "id": "5cd5f604",
   "metadata": {},
   "source": [
    "vi.\tLogical operator"
   ]
  },
  {
   "cell_type": "markdown",
   "id": "5d0c806b",
   "metadata": {},
   "source": [
    "vii.\tMembership operator"
   ]
  },
  {
   "cell_type": "markdown",
   "id": "ba09c5d6",
   "metadata": {},
   "source": [
    "## I.\tArithmatic operator:\n",
    "\n"
   ]
  },
  {
   "cell_type": "markdown",
   "id": "6c122baf",
   "metadata": {},
   "source": [
    "This operators are used with numerical values to perform some mathematical tasks.\n"
   ]
  },
  {
   "cell_type": "code",
   "execution_count": 1,
   "id": "1228fe12",
   "metadata": {},
   "outputs": [],
   "source": [
    "x = 5\n",
    "y = 3"
   ]
  },
  {
   "cell_type": "code",
   "execution_count": 2,
   "id": "3c0a931e",
   "metadata": {},
   "outputs": [],
   "source": [
    "a = x+y"
   ]
  },
  {
   "cell_type": "code",
   "execution_count": 3,
   "id": "a7f08fc0",
   "metadata": {},
   "outputs": [
    {
     "data": {
      "text/plain": [
       "8"
      ]
     },
     "execution_count": 3,
     "metadata": {},
     "output_type": "execute_result"
    }
   ],
   "source": [
    "a"
   ]
  },
  {
   "cell_type": "code",
   "execution_count": 4,
   "id": "f2236885",
   "metadata": {},
   "outputs": [],
   "source": [
    "b = x-y"
   ]
  },
  {
   "cell_type": "code",
   "execution_count": 5,
   "id": "34de5834",
   "metadata": {},
   "outputs": [
    {
     "data": {
      "text/plain": [
       "2"
      ]
     },
     "execution_count": 5,
     "metadata": {},
     "output_type": "execute_result"
    }
   ],
   "source": [
    "b"
   ]
  },
  {
   "cell_type": "code",
   "execution_count": 6,
   "id": "5ab4e672",
   "metadata": {},
   "outputs": [],
   "source": [
    "c = x*y"
   ]
  },
  {
   "cell_type": "code",
   "execution_count": 7,
   "id": "9657f63e",
   "metadata": {},
   "outputs": [
    {
     "data": {
      "text/plain": [
       "15"
      ]
     },
     "execution_count": 7,
     "metadata": {},
     "output_type": "execute_result"
    }
   ],
   "source": [
    "c"
   ]
  },
  {
   "cell_type": "code",
   "execution_count": 8,
   "id": "ceb3221e",
   "metadata": {},
   "outputs": [],
   "source": [
    "d = x/y"
   ]
  },
  {
   "cell_type": "code",
   "execution_count": 9,
   "id": "272c2778",
   "metadata": {},
   "outputs": [
    {
     "data": {
      "text/plain": [
       "1.6666666666666667"
      ]
     },
     "execution_count": 9,
     "metadata": {},
     "output_type": "execute_result"
    }
   ],
   "source": [
    "d"
   ]
  },
  {
   "cell_type": "code",
   "execution_count": 10,
   "id": "6f781152",
   "metadata": {},
   "outputs": [],
   "source": [
    "e = x//y"
   ]
  },
  {
   "cell_type": "code",
   "execution_count": 11,
   "id": "244767b4",
   "metadata": {},
   "outputs": [
    {
     "data": {
      "text/plain": [
       "1"
      ]
     },
     "execution_count": 11,
     "metadata": {},
     "output_type": "execute_result"
    }
   ],
   "source": [
    "e"
   ]
  },
  {
   "cell_type": "code",
   "execution_count": 12,
   "id": "7f7668d6",
   "metadata": {},
   "outputs": [],
   "source": [
    "f = x%y"
   ]
  },
  {
   "cell_type": "code",
   "execution_count": 13,
   "id": "e42323c0",
   "metadata": {},
   "outputs": [
    {
     "data": {
      "text/plain": [
       "2"
      ]
     },
     "execution_count": 13,
     "metadata": {},
     "output_type": "execute_result"
    }
   ],
   "source": [
    "f"
   ]
  },
  {
   "cell_type": "code",
   "execution_count": 14,
   "id": "6c4e575e",
   "metadata": {},
   "outputs": [],
   "source": [
    "g = x**y"
   ]
  },
  {
   "cell_type": "code",
   "execution_count": 15,
   "id": "11309122",
   "metadata": {},
   "outputs": [
    {
     "data": {
      "text/plain": [
       "125"
      ]
     },
     "execution_count": 15,
     "metadata": {},
     "output_type": "execute_result"
    }
   ],
   "source": [
    "g"
   ]
  },
  {
   "cell_type": "markdown",
   "id": "472346ba",
   "metadata": {},
   "source": [
    "## II.\tAssignment Operator:\n"
   ]
  },
  {
   "cell_type": "markdown",
   "id": "5e1326f9",
   "metadata": {},
   "source": [
    "This operator uses to assign the values to variables."
   ]
  },
  {
   "cell_type": "code",
   "execution_count": 16,
   "id": "0136667d",
   "metadata": {},
   "outputs": [],
   "source": [
    "x = 5"
   ]
  },
  {
   "cell_type": "code",
   "execution_count": 17,
   "id": "028cfea6",
   "metadata": {},
   "outputs": [
    {
     "data": {
      "text/plain": [
       "5"
      ]
     },
     "execution_count": 17,
     "metadata": {},
     "output_type": "execute_result"
    }
   ],
   "source": [
    "x"
   ]
  },
  {
   "cell_type": "code",
   "execution_count": 18,
   "id": "7973cb8e",
   "metadata": {},
   "outputs": [],
   "source": [
    "x+=5                             #x = x+5"
   ]
  },
  {
   "cell_type": "code",
   "execution_count": 19,
   "id": "7e0e61e2",
   "metadata": {},
   "outputs": [
    {
     "data": {
      "text/plain": [
       "10"
      ]
     },
     "execution_count": 19,
     "metadata": {},
     "output_type": "execute_result"
    }
   ],
   "source": [
    "x"
   ]
  },
  {
   "cell_type": "code",
   "execution_count": 20,
   "id": "4e1a2f39",
   "metadata": {},
   "outputs": [],
   "source": [
    "x-=5"
   ]
  },
  {
   "cell_type": "code",
   "execution_count": 21,
   "id": "3c73aee3",
   "metadata": {},
   "outputs": [
    {
     "data": {
      "text/plain": [
       "5"
      ]
     },
     "execution_count": 21,
     "metadata": {},
     "output_type": "execute_result"
    }
   ],
   "source": [
    "x"
   ]
  },
  {
   "cell_type": "code",
   "execution_count": 22,
   "id": "e56022bc",
   "metadata": {},
   "outputs": [],
   "source": [
    "x*=5"
   ]
  },
  {
   "cell_type": "code",
   "execution_count": 23,
   "id": "114e2595",
   "metadata": {},
   "outputs": [
    {
     "data": {
      "text/plain": [
       "25"
      ]
     },
     "execution_count": 23,
     "metadata": {},
     "output_type": "execute_result"
    }
   ],
   "source": [
    "x"
   ]
  },
  {
   "cell_type": "code",
   "execution_count": 24,
   "id": "9ed14dc7",
   "metadata": {},
   "outputs": [],
   "source": [
    "x&=5                          #x = x&5 = 25&5 = 11001 & 00101 = 00001 = 1"
   ]
  },
  {
   "cell_type": "code",
   "execution_count": 25,
   "id": "449ee0c7",
   "metadata": {},
   "outputs": [
    {
     "data": {
      "text/plain": [
       "1"
      ]
     },
     "execution_count": 25,
     "metadata": {},
     "output_type": "execute_result"
    }
   ],
   "source": [
    "x                            "
   ]
  },
  {
   "cell_type": "code",
   "execution_count": 26,
   "id": "81042240",
   "metadata": {},
   "outputs": [],
   "source": [
    "x|=5                         #x = x|5 = 1|5 = 001 | 101 = 101 = 5"
   ]
  },
  {
   "cell_type": "code",
   "execution_count": 27,
   "id": "074f8d3a",
   "metadata": {},
   "outputs": [
    {
     "data": {
      "text/plain": [
       "5"
      ]
     },
     "execution_count": 27,
     "metadata": {},
     "output_type": "execute_result"
    }
   ],
   "source": [
    "x"
   ]
  },
  {
   "cell_type": "code",
   "execution_count": 28,
   "id": "11a916ef",
   "metadata": {},
   "outputs": [],
   "source": [
    "x^=2                      #x = x^2 = 5^2 = 101 ^ 010 = 111"
   ]
  },
  {
   "cell_type": "code",
   "execution_count": 29,
   "id": "d6f9445e",
   "metadata": {},
   "outputs": [
    {
     "data": {
      "text/plain": [
       "7"
      ]
     },
     "execution_count": 29,
     "metadata": {},
     "output_type": "execute_result"
    }
   ],
   "source": [
    "x"
   ]
  },
  {
   "cell_type": "code",
   "execution_count": 30,
   "id": "21583ed5",
   "metadata": {},
   "outputs": [],
   "source": [
    "x>>=1                        #x = x>>1 = 7>>1 = 7/2^1 = 3"
   ]
  },
  {
   "cell_type": "code",
   "execution_count": 31,
   "id": "e1a4be45",
   "metadata": {},
   "outputs": [
    {
     "data": {
      "text/plain": [
       "3"
      ]
     },
     "execution_count": 31,
     "metadata": {},
     "output_type": "execute_result"
    }
   ],
   "source": [
    "x"
   ]
  },
  {
   "cell_type": "code",
   "execution_count": 32,
   "id": "53886976",
   "metadata": {},
   "outputs": [],
   "source": [
    "x<<=1                          #x = x<<1 = 3<<1 = 3*2^1 = 6"
   ]
  },
  {
   "cell_type": "code",
   "execution_count": 33,
   "id": "d0adcf78",
   "metadata": {},
   "outputs": [
    {
     "data": {
      "text/plain": [
       "6"
      ]
     },
     "execution_count": 33,
     "metadata": {},
     "output_type": "execute_result"
    }
   ],
   "source": [
    "x"
   ]
  },
  {
   "cell_type": "markdown",
   "id": "add01d56",
   "metadata": {},
   "source": [
    "## III.\tBitwise Operator:"
   ]
  },
  {
   "cell_type": "markdown",
   "id": "3e2ca454",
   "metadata": {},
   "source": [
    "These operators are used to compare binary numbers."
   ]
  },
  {
   "cell_type": "code",
   "execution_count": 34,
   "id": "b08ba54f",
   "metadata": {},
   "outputs": [],
   "source": [
    "a = 10\n",
    "b = 5"
   ]
  },
  {
   "cell_type": "code",
   "execution_count": 35,
   "id": "1a6d19da",
   "metadata": {},
   "outputs": [],
   "source": [
    "p = a&b"
   ]
  },
  {
   "cell_type": "code",
   "execution_count": 36,
   "id": "bf5c2c6c",
   "metadata": {},
   "outputs": [
    {
     "data": {
      "text/plain": [
       "0"
      ]
     },
     "execution_count": 36,
     "metadata": {},
     "output_type": "execute_result"
    }
   ],
   "source": [
    "p"
   ]
  },
  {
   "cell_type": "code",
   "execution_count": 37,
   "id": "2dc9c1d8",
   "metadata": {},
   "outputs": [],
   "source": [
    "q = a|b"
   ]
  },
  {
   "cell_type": "code",
   "execution_count": 38,
   "id": "12955e21",
   "metadata": {},
   "outputs": [
    {
     "data": {
      "text/plain": [
       "15"
      ]
     },
     "execution_count": 38,
     "metadata": {},
     "output_type": "execute_result"
    }
   ],
   "source": [
    "q"
   ]
  },
  {
   "cell_type": "code",
   "execution_count": 39,
   "id": "dec7ea47",
   "metadata": {},
   "outputs": [],
   "source": [
    "r = a^b"
   ]
  },
  {
   "cell_type": "code",
   "execution_count": 40,
   "id": "d23c85e4",
   "metadata": {},
   "outputs": [
    {
     "data": {
      "text/plain": [
       "15"
      ]
     },
     "execution_count": 40,
     "metadata": {},
     "output_type": "execute_result"
    }
   ],
   "source": [
    "r"
   ]
  },
  {
   "cell_type": "code",
   "execution_count": 41,
   "id": "a152070d",
   "metadata": {},
   "outputs": [
    {
     "data": {
      "text/plain": [
       "2"
      ]
     },
     "execution_count": 41,
     "metadata": {},
     "output_type": "execute_result"
    }
   ],
   "source": [
    "a>>2"
   ]
  },
  {
   "cell_type": "code",
   "execution_count": 42,
   "id": "ef01a2ec",
   "metadata": {},
   "outputs": [
    {
     "data": {
      "text/plain": [
       "40"
      ]
     },
     "execution_count": 42,
     "metadata": {},
     "output_type": "execute_result"
    }
   ],
   "source": [
    "a<<2"
   ]
  },
  {
   "cell_type": "code",
   "execution_count": 43,
   "id": "e230e975",
   "metadata": {},
   "outputs": [
    {
     "data": {
      "text/plain": [
       "-11"
      ]
     },
     "execution_count": 43,
     "metadata": {},
     "output_type": "execute_result"
    }
   ],
   "source": [
    "~a"
   ]
  },
  {
   "cell_type": "markdown",
   "id": "1bafec70",
   "metadata": {},
   "source": [
    "## IV.\tComparision Operator:"
   ]
  },
  {
   "cell_type": "markdown",
   "id": "0ca9f3e3",
   "metadata": {},
   "source": [
    "These operators are used to compare two values.\n",
    "In this context output must be a Boolean value(True/False)\n"
   ]
  },
  {
   "cell_type": "code",
   "execution_count": 44,
   "id": "8510ded5",
   "metadata": {},
   "outputs": [],
   "source": [
    "x = 5\n",
    "y = 7"
   ]
  },
  {
   "cell_type": "code",
   "execution_count": 45,
   "id": "e7ae8a98",
   "metadata": {},
   "outputs": [
    {
     "data": {
      "text/plain": [
       "False"
      ]
     },
     "execution_count": 45,
     "metadata": {},
     "output_type": "execute_result"
    }
   ],
   "source": [
    "x == y"
   ]
  },
  {
   "cell_type": "code",
   "execution_count": 46,
   "id": "ccb7e865",
   "metadata": {},
   "outputs": [
    {
     "data": {
      "text/plain": [
       "True"
      ]
     },
     "execution_count": 46,
     "metadata": {},
     "output_type": "execute_result"
    }
   ],
   "source": [
    "x!=y"
   ]
  },
  {
   "cell_type": "code",
   "execution_count": 47,
   "id": "8472fffb",
   "metadata": {},
   "outputs": [
    {
     "data": {
      "text/plain": [
       "False"
      ]
     },
     "execution_count": 47,
     "metadata": {},
     "output_type": "execute_result"
    }
   ],
   "source": [
    "x>y"
   ]
  },
  {
   "cell_type": "code",
   "execution_count": 48,
   "id": "a20b7217",
   "metadata": {},
   "outputs": [
    {
     "data": {
      "text/plain": [
       "False"
      ]
     },
     "execution_count": 48,
     "metadata": {},
     "output_type": "execute_result"
    }
   ],
   "source": [
    "x>=y"
   ]
  },
  {
   "cell_type": "code",
   "execution_count": 49,
   "id": "e3128256",
   "metadata": {},
   "outputs": [
    {
     "data": {
      "text/plain": [
       "True"
      ]
     },
     "execution_count": 49,
     "metadata": {},
     "output_type": "execute_result"
    }
   ],
   "source": [
    "x<y"
   ]
  },
  {
   "cell_type": "code",
   "execution_count": 50,
   "id": "7bd09342",
   "metadata": {},
   "outputs": [
    {
     "data": {
      "text/plain": [
       "True"
      ]
     },
     "execution_count": 50,
     "metadata": {},
     "output_type": "execute_result"
    }
   ],
   "source": [
    "x<=y"
   ]
  },
  {
   "cell_type": "markdown",
   "id": "23f8a3e6",
   "metadata": {},
   "source": [
    "## V.\tIdentity Operator:"
   ]
  },
  {
   "cell_type": "markdown",
   "id": "215cd2b3",
   "metadata": {},
   "source": [
    "These operators are used to compare the objects, not\n",
    "if they are equal, but if they are actually the same object with the same memory location\n"
   ]
  },
  {
   "cell_type": "code",
   "execution_count": 51,
   "id": "e962c599",
   "metadata": {},
   "outputs": [],
   "source": [
    "x = 5\n",
    "y = 6"
   ]
  },
  {
   "cell_type": "code",
   "execution_count": 52,
   "id": "79cec73d",
   "metadata": {},
   "outputs": [
    {
     "data": {
      "text/plain": [
       "False"
      ]
     },
     "execution_count": 52,
     "metadata": {},
     "output_type": "execute_result"
    }
   ],
   "source": [
    "x is y"
   ]
  },
  {
   "cell_type": "code",
   "execution_count": 53,
   "id": "b7fac44c",
   "metadata": {},
   "outputs": [
    {
     "data": {
      "text/plain": [
       "True"
      ]
     },
     "execution_count": 53,
     "metadata": {},
     "output_type": "execute_result"
    }
   ],
   "source": [
    "x is not y"
   ]
  },
  {
   "cell_type": "code",
   "execution_count": 54,
   "id": "99406802",
   "metadata": {},
   "outputs": [],
   "source": [
    "a = \"Ram\"\n",
    "b = \"ram\""
   ]
  },
  {
   "cell_type": "code",
   "execution_count": 55,
   "id": "20b1ba9b",
   "metadata": {},
   "outputs": [
    {
     "data": {
      "text/plain": [
       "False"
      ]
     },
     "execution_count": 55,
     "metadata": {},
     "output_type": "execute_result"
    }
   ],
   "source": [
    "a is b"
   ]
  },
  {
   "cell_type": "markdown",
   "id": "51429ec7",
   "metadata": {},
   "source": [
    "## VI.\tLogical Operator: "
   ]
  },
  {
   "cell_type": "markdown",
   "id": "fdbbd059",
   "metadata": {},
   "source": [
    "These operators are used to combine conditional statements."
   ]
  },
  {
   "cell_type": "code",
   "execution_count": 56,
   "id": "23d40f8e",
   "metadata": {},
   "outputs": [],
   "source": [
    "x = 5"
   ]
  },
  {
   "cell_type": "code",
   "execution_count": 57,
   "id": "a770ad8b",
   "metadata": {},
   "outputs": [
    {
     "data": {
      "text/plain": [
       "False"
      ]
     },
     "execution_count": 57,
     "metadata": {},
     "output_type": "execute_result"
    }
   ],
   "source": [
    "x>5 and x<4                 #(T T ->  T, otherwise False)"
   ]
  },
  {
   "cell_type": "code",
   "execution_count": 58,
   "id": "1109596a",
   "metadata": {},
   "outputs": [
    {
     "data": {
      "text/plain": [
       "True"
      ]
     },
     "execution_count": 58,
     "metadata": {},
     "output_type": "execute_result"
    }
   ],
   "source": [
    "x>5 or x<6                  #(F F ->   F, otherwise True)"
   ]
  },
  {
   "cell_type": "code",
   "execution_count": 59,
   "id": "c1ee2330",
   "metadata": {},
   "outputs": [
    {
     "data": {
      "text/plain": [
       "True"
      ]
     },
     "execution_count": 59,
     "metadata": {},
     "output_type": "execute_result"
    }
   ],
   "source": [
    "not(x>5)                    #(T ->F, F ->T)"
   ]
  },
  {
   "cell_type": "markdown",
   "id": "3a5f725a",
   "metadata": {},
   "source": [
    "## VII.\tMembership Operator: "
   ]
  },
  {
   "cell_type": "markdown",
   "id": "e2bbd79c",
   "metadata": {},
   "source": [
    "These operators are used to test whether a value or a variable is found in a sequence or not."
   ]
  },
  {
   "cell_type": "code",
   "execution_count": 60,
   "id": "53d32358",
   "metadata": {},
   "outputs": [],
   "source": [
    "s = \"Soumya\""
   ]
  },
  {
   "cell_type": "code",
   "execution_count": 61,
   "id": "61c0a916",
   "metadata": {},
   "outputs": [
    {
     "data": {
      "text/plain": [
       "True"
      ]
     },
     "execution_count": 61,
     "metadata": {},
     "output_type": "execute_result"
    }
   ],
   "source": [
    "\"u\" in s"
   ]
  },
  {
   "cell_type": "code",
   "execution_count": 62,
   "id": "b864212f",
   "metadata": {},
   "outputs": [
    {
     "data": {
      "text/plain": [
       "False"
      ]
     },
     "execution_count": 62,
     "metadata": {},
     "output_type": "execute_result"
    }
   ],
   "source": [
    "\"p\" in s"
   ]
  },
  {
   "cell_type": "code",
   "execution_count": 63,
   "id": "227ed371",
   "metadata": {},
   "outputs": [
    {
     "data": {
      "text/plain": [
       "False"
      ]
     },
     "execution_count": 63,
     "metadata": {},
     "output_type": "execute_result"
    }
   ],
   "source": [
    "\"u\" not in s"
   ]
  },
  {
   "cell_type": "code",
   "execution_count": 64,
   "id": "0adfbc63",
   "metadata": {},
   "outputs": [
    {
     "data": {
      "text/plain": [
       "True"
      ]
     },
     "execution_count": 64,
     "metadata": {},
     "output_type": "execute_result"
    }
   ],
   "source": [
    "\"p\" not in s"
   ]
  },
  {
   "cell_type": "code",
   "execution_count": null,
   "id": "b6254d68",
   "metadata": {},
   "outputs": [],
   "source": []
  }
 ],
 "metadata": {
  "kernelspec": {
   "display_name": "Python 3 (ipykernel)",
   "language": "python",
   "name": "python3"
  },
  "language_info": {
   "codemirror_mode": {
    "name": "ipython",
    "version": 3
   },
   "file_extension": ".py",
   "mimetype": "text/x-python",
   "name": "python",
   "nbconvert_exporter": "python",
   "pygments_lexer": "ipython3",
   "version": "3.9.7"
  }
 },
 "nbformat": 4,
 "nbformat_minor": 5
}
