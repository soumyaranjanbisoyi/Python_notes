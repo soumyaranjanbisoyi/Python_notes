{
 "cells": [
  {
   "cell_type": "markdown",
   "id": "30f1d698",
   "metadata": {},
   "source": [
    "# String in Python:"
   ]
  },
  {
   "cell_type": "markdown",
   "id": "c8af2e5a",
   "metadata": {},
   "source": [
    "\tA string is a sequence of characters, which quoted with single, double or triple quote."
   ]
  },
  {
   "cell_type": "code",
   "execution_count": 1,
   "id": "58a78ac9",
   "metadata": {},
   "outputs": [],
   "source": [
    "str_1 = 'Hello'"
   ]
  },
  {
   "cell_type": "code",
   "execution_count": 2,
   "id": "3b900cf0",
   "metadata": {},
   "outputs": [
    {
     "data": {
      "text/plain": [
       "'Hello'"
      ]
     },
     "execution_count": 2,
     "metadata": {},
     "output_type": "execute_result"
    }
   ],
   "source": [
    "str_1"
   ]
  },
  {
   "cell_type": "code",
   "execution_count": 3,
   "id": "8266323c",
   "metadata": {},
   "outputs": [],
   "source": [
    "str_2 = \"Hello\""
   ]
  },
  {
   "cell_type": "code",
   "execution_count": 4,
   "id": "5bf78e72",
   "metadata": {},
   "outputs": [
    {
     "data": {
      "text/plain": [
       "'Hello'"
      ]
     },
     "execution_count": 4,
     "metadata": {},
     "output_type": "execute_result"
    }
   ],
   "source": [
    "str_2"
   ]
  },
  {
   "cell_type": "code",
   "execution_count": 5,
   "id": "76b3d8b4",
   "metadata": {},
   "outputs": [],
   "source": [
    "str_3 = '''Hello'''"
   ]
  },
  {
   "cell_type": "code",
   "execution_count": 6,
   "id": "e3bc7882",
   "metadata": {},
   "outputs": [
    {
     "data": {
      "text/plain": [
       "'Hello'"
      ]
     },
     "execution_count": 6,
     "metadata": {},
     "output_type": "execute_result"
    }
   ],
   "source": [
    "str_3"
   ]
  },
  {
   "cell_type": "code",
   "execution_count": 7,
   "id": "d6cce020",
   "metadata": {},
   "outputs": [],
   "source": [
    "msg = \"Hello Python\""
   ]
  },
  {
   "cell_type": "code",
   "execution_count": 8,
   "id": "33d58dda",
   "metadata": {},
   "outputs": [
    {
     "data": {
      "text/plain": [
       "12"
      ]
     },
     "execution_count": 8,
     "metadata": {},
     "output_type": "execute_result"
    }
   ],
   "source": [
    "len(msg)"
   ]
  },
  {
   "cell_type": "code",
   "execution_count": 10,
   "id": "a9a9abbd",
   "metadata": {},
   "outputs": [
    {
     "data": {
      "text/plain": [
       "'H'"
      ]
     },
     "execution_count": 10,
     "metadata": {},
     "output_type": "execute_result"
    }
   ],
   "source": [
    "msg[0]"
   ]
  },
  {
   "cell_type": "code",
   "execution_count": 11,
   "id": "c462bca9",
   "metadata": {},
   "outputs": [
    {
     "data": {
      "text/plain": [
       "' '"
      ]
     },
     "execution_count": 11,
     "metadata": {},
     "output_type": "execute_result"
    }
   ],
   "source": [
    "msg[5]"
   ]
  },
  {
   "cell_type": "code",
   "execution_count": 13,
   "id": "c437118c",
   "metadata": {},
   "outputs": [
    {
     "data": {
      "text/plain": [
       "'n'"
      ]
     },
     "execution_count": 13,
     "metadata": {},
     "output_type": "execute_result"
    }
   ],
   "source": [
    "msg[11]"
   ]
  },
  {
   "cell_type": "code",
   "execution_count": 14,
   "id": "6dd32e74",
   "metadata": {},
   "outputs": [
    {
     "ename": "IndexError",
     "evalue": "string index out of range",
     "output_type": "error",
     "traceback": [
      "\u001b[1;31m---------------------------------------------------------------------------\u001b[0m",
      "\u001b[1;31mIndexError\u001b[0m                                Traceback (most recent call last)",
      "\u001b[1;32m~\\AppData\\Local\\Temp/ipykernel_18672/3969563526.py\u001b[0m in \u001b[0;36m<module>\u001b[1;34m\u001b[0m\n\u001b[1;32m----> 1\u001b[1;33m \u001b[0mmsg\u001b[0m\u001b[1;33m[\u001b[0m\u001b[1;36m12\u001b[0m\u001b[1;33m]\u001b[0m\u001b[1;33m\u001b[0m\u001b[1;33m\u001b[0m\u001b[0m\n\u001b[0m",
      "\u001b[1;31mIndexError\u001b[0m: string index out of range"
     ]
    }
   ],
   "source": [
    "msg[12]"
   ]
  },
  {
   "cell_type": "code",
   "execution_count": 15,
   "id": "ff7058ad",
   "metadata": {},
   "outputs": [
    {
     "data": {
      "text/plain": [
       "'n'"
      ]
     },
     "execution_count": 15,
     "metadata": {},
     "output_type": "execute_result"
    }
   ],
   "source": [
    "msg[-1]"
   ]
  },
  {
   "cell_type": "code",
   "execution_count": 16,
   "id": "b885c616",
   "metadata": {},
   "outputs": [
    {
     "data": {
      "text/plain": [
       "'H'"
      ]
     },
     "execution_count": 16,
     "metadata": {},
     "output_type": "execute_result"
    }
   ],
   "source": [
    "msg[-12]"
   ]
  },
  {
   "cell_type": "markdown",
   "id": "f1ccd4c9",
   "metadata": {},
   "source": [
    "•\tStrings in python are immutable, means(unchangeable), i.e. once a string is created, then we cant alter its component and an attempt to do so leads to an error. "
   ]
  },
  {
   "cell_type": "code",
   "execution_count": 17,
   "id": "0b85f42f",
   "metadata": {},
   "outputs": [
    {
     "ename": "TypeError",
     "evalue": "'str' object does not support item assignment",
     "output_type": "error",
     "traceback": [
      "\u001b[1;31m---------------------------------------------------------------------------\u001b[0m",
      "\u001b[1;31mTypeError\u001b[0m                                 Traceback (most recent call last)",
      "\u001b[1;32m~\\AppData\\Local\\Temp/ipykernel_18672/525091037.py\u001b[0m in \u001b[0;36m<module>\u001b[1;34m\u001b[0m\n\u001b[1;32m----> 1\u001b[1;33m \u001b[0mmsg\u001b[0m\u001b[1;33m[\u001b[0m\u001b[1;36m5\u001b[0m\u001b[1;33m]\u001b[0m \u001b[1;33m=\u001b[0m \u001b[1;34m\"j\"\u001b[0m\u001b[1;33m\u001b[0m\u001b[1;33m\u001b[0m\u001b[0m\n\u001b[0m",
      "\u001b[1;31mTypeError\u001b[0m: 'str' object does not support item assignment"
     ]
    }
   ],
   "source": [
    "msg[5] = \"j\""
   ]
  },
  {
   "cell_type": "code",
   "execution_count": 19,
   "id": "ee0a2fe9",
   "metadata": {},
   "outputs": [],
   "source": [
    "val_1 = \"Soumya\"\n",
    "val_2 = \"Ranjan\""
   ]
  },
  {
   "cell_type": "code",
   "execution_count": 21,
   "id": "3979687e",
   "metadata": {},
   "outputs": [],
   "source": [
    "val_3 = val_1+val_2                      #We can concatenate two string using \"+\" "
   ]
  },
  {
   "cell_type": "code",
   "execution_count": 22,
   "id": "a82b958d",
   "metadata": {},
   "outputs": [
    {
     "data": {
      "text/plain": [
       "'SoumyaRanjan'"
      ]
     },
     "execution_count": 22,
     "metadata": {},
     "output_type": "execute_result"
    }
   ],
   "source": [
    "val_3"
   ]
  },
  {
   "cell_type": "code",
   "execution_count": 29,
   "id": "68d967d2",
   "metadata": {},
   "outputs": [],
   "source": [
    "a = \"Python\""
   ]
  },
  {
   "cell_type": "code",
   "execution_count": 30,
   "id": "858d4dd2",
   "metadata": {},
   "outputs": [],
   "source": [
    "b = a*3"
   ]
  },
  {
   "cell_type": "code",
   "execution_count": 31,
   "id": "09d672dd",
   "metadata": {},
   "outputs": [
    {
     "data": {
      "text/plain": [
       "'PythonPythonPython'"
      ]
     },
     "execution_count": 31,
     "metadata": {},
     "output_type": "execute_result"
    }
   ],
   "source": [
    "b"
   ]
  },
  {
   "cell_type": "markdown",
   "id": "fa8a83cc",
   "metadata": {},
   "source": [
    "# Slicing in string:"
   ]
  },
  {
   "cell_type": "markdown",
   "id": "ef25d129",
   "metadata": {},
   "source": [
    "To retrieve a substring i.e.(a part from the string), we can use the concept of slicing.\n",
    "•\tTo use slicing technique, we have to specify the range in the form of [start:end].\n"
   ]
  },
  {
   "cell_type": "code",
   "execution_count": 32,
   "id": "7f913a4e",
   "metadata": {},
   "outputs": [],
   "source": [
    "data = \"I am reading string slicing\""
   ]
  },
  {
   "cell_type": "code",
   "execution_count": 34,
   "id": "4cd9ed9a",
   "metadata": {},
   "outputs": [
    {
     "data": {
      "text/plain": [
       "'I am r'"
      ]
     },
     "execution_count": 34,
     "metadata": {},
     "output_type": "execute_result"
    }
   ],
   "source": [
    "data[0:6]                           #It will start from 0 and ends with 5th index, 6th index will be excluded."
   ]
  },
  {
   "cell_type": "code",
   "execution_count": 35,
   "id": "a287450b",
   "metadata": {},
   "outputs": [
    {
     "data": {
      "text/plain": [
       "'am'"
      ]
     },
     "execution_count": 35,
     "metadata": {},
     "output_type": "execute_result"
    }
   ],
   "source": [
    "data[2:4]                          #It will return 2nd and 3rd index value"
   ]
  },
  {
   "cell_type": "code",
   "execution_count": 37,
   "id": "a6370a6d",
   "metadata": {},
   "outputs": [
    {
     "data": {
      "text/plain": [
       "'I am reading string slicing'"
      ]
     },
     "execution_count": 37,
     "metadata": {},
     "output_type": "execute_result"
    }
   ],
   "source": [
    "data[0:]                           #It will start from 0 and ends with last index"
   ]
  },
  {
   "cell_type": "code",
   "execution_count": 39,
   "id": "1c087afa",
   "metadata": {},
   "outputs": [
    {
     "data": {
      "text/plain": [
       "'I am reading string slicing'"
      ]
     },
     "execution_count": 39,
     "metadata": {},
     "output_type": "execute_result"
    }
   ],
   "source": [
    "data[:]                             #It will print the entire string."
   ]
  },
  {
   "cell_type": "code",
   "execution_count": 43,
   "id": "a5a6ca2a",
   "metadata": {},
   "outputs": [
    {
     "data": {
      "text/plain": [
       "'Ia '"
      ]
     },
     "execution_count": 43,
     "metadata": {},
     "output_type": "execute_result"
    }
   ],
   "source": [
    "data[0:6:2]                         #It will print 0th, 2nd and 4th index value.(because gap is specified as 2)"
   ]
  },
  {
   "cell_type": "code",
   "execution_count": 45,
   "id": "d933e2e3",
   "metadata": {},
   "outputs": [
    {
     "data": {
      "text/plain": [
       "'ar'"
      ]
     },
     "execution_count": 45,
     "metadata": {},
     "output_type": "execute_result"
    }
   ],
   "source": [
    "data[2:8:3]                        #It will print 2nd and 5th index value"
   ]
  },
  {
   "cell_type": "code",
   "execution_count": 47,
   "id": "2685127e",
   "metadata": {},
   "outputs": [
    {
     "data": {
      "text/plain": [
       "'gnicils gnirts gnidaer ma I'"
      ]
     },
     "execution_count": 47,
     "metadata": {},
     "output_type": "execute_result"
    }
   ],
   "source": [
    "data[::-1]                         #It will reverse the string"
   ]
  },
  {
   "cell_type": "code",
   "execution_count": 48,
   "id": "eaa31f80",
   "metadata": {},
   "outputs": [
    {
     "data": {
      "text/plain": [
       "'giisgit nde aI'"
      ]
     },
     "execution_count": 48,
     "metadata": {},
     "output_type": "execute_result"
    }
   ],
   "source": [
    "data[::-2]                          #It will print the string from backward by 2 gap."
   ]
  },
  {
   "cell_type": "markdown",
   "id": "ce8d853d",
   "metadata": {},
   "source": [
    "# Membership concept in string:"
   ]
  },
  {
   "cell_type": "code",
   "execution_count": 49,
   "id": "3387227e",
   "metadata": {},
   "outputs": [],
   "source": [
    "var = \"How is your preparation going on?\""
   ]
  },
  {
   "cell_type": "code",
   "execution_count": 50,
   "id": "971989bb",
   "metadata": {},
   "outputs": [
    {
     "data": {
      "text/plain": [
       "True"
      ]
     },
     "execution_count": 50,
     "metadata": {},
     "output_type": "execute_result"
    }
   ],
   "source": [
    "\"is\" in var"
   ]
  },
  {
   "cell_type": "code",
   "execution_count": 51,
   "id": "a1ba3e22",
   "metadata": {},
   "outputs": [
    {
     "data": {
      "text/plain": [
       "False"
      ]
     },
     "execution_count": 51,
     "metadata": {},
     "output_type": "execute_result"
    }
   ],
   "source": [
    "\"are\" in var"
   ]
  },
  {
   "cell_type": "markdown",
   "id": "4e06e177",
   "metadata": {},
   "source": [
    "# String Format: "
   ]
  },
  {
   "cell_type": "markdown",
   "id": "11318c31",
   "metadata": {},
   "source": [
    "we cannot combine strings and numbers. So for that we have to know the string formatting concept."
   ]
  },
  {
   "cell_type": "code",
   "execution_count": 53,
   "id": "a74807bd",
   "metadata": {},
   "outputs": [],
   "source": [
    "str = \"Hello\"\n",
    "num = 2"
   ]
  },
  {
   "cell_type": "code",
   "execution_count": 54,
   "id": "4181ab5b",
   "metadata": {},
   "outputs": [
    {
     "ename": "TypeError",
     "evalue": "can only concatenate str (not \"int\") to str",
     "output_type": "error",
     "traceback": [
      "\u001b[1;31m---------------------------------------------------------------------------\u001b[0m",
      "\u001b[1;31mTypeError\u001b[0m                                 Traceback (most recent call last)",
      "\u001b[1;32m~\\AppData\\Local\\Temp/ipykernel_18672/415997469.py\u001b[0m in \u001b[0;36m<module>\u001b[1;34m\u001b[0m\n\u001b[1;32m----> 1\u001b[1;33m \u001b[0mstr\u001b[0m\u001b[1;33m+\u001b[0m\u001b[0mnum\u001b[0m\u001b[1;33m\u001b[0m\u001b[1;33m\u001b[0m\u001b[0m\n\u001b[0m",
      "\u001b[1;31mTypeError\u001b[0m: can only concatenate str (not \"int\") to str"
     ]
    }
   ],
   "source": [
    "str+num"
   ]
  },
  {
   "cell_type": "code",
   "execution_count": 59,
   "id": "6c4fc445",
   "metadata": {},
   "outputs": [],
   "source": [
    "st = \"I have {} rupees\"\n",
    "num= 100"
   ]
  },
  {
   "cell_type": "code",
   "execution_count": 60,
   "id": "97847cbc",
   "metadata": {},
   "outputs": [
    {
     "data": {
      "text/plain": [
       "'I have 100 rupees'"
      ]
     },
     "execution_count": 60,
     "metadata": {},
     "output_type": "execute_result"
    }
   ],
   "source": [
    "st.format(num)"
   ]
  },
  {
   "cell_type": "code",
   "execution_count": 61,
   "id": "d2f9d41f",
   "metadata": {},
   "outputs": [],
   "source": [
    "st_2 = \"I have {} rupees, i will buy {} pen.\"\n",
    "num_1 = 100\n",
    "num_2 = 2"
   ]
  },
  {
   "cell_type": "code",
   "execution_count": 63,
   "id": "d2062255",
   "metadata": {},
   "outputs": [
    {
     "data": {
      "text/plain": [
       "'I have 100 rupees, i will buy 2 pen.'"
      ]
     },
     "execution_count": 63,
     "metadata": {},
     "output_type": "execute_result"
    }
   ],
   "source": [
    "st_2.format(num_1, num_2)"
   ]
  },
  {
   "cell_type": "code",
   "execution_count": 64,
   "id": "8f5a8776",
   "metadata": {},
   "outputs": [],
   "source": [
    "st_2 = \"I have {1} rupees, i will buy {0} pen.\"\n",
    "num_1 = 100\n",
    "num_2 = 2"
   ]
  },
  {
   "cell_type": "code",
   "execution_count": 65,
   "id": "c8f78763",
   "metadata": {},
   "outputs": [
    {
     "data": {
      "text/plain": [
       "'I have 2 rupees, i will buy 100 pen.'"
      ]
     },
     "execution_count": 65,
     "metadata": {},
     "output_type": "execute_result"
    }
   ],
   "source": [
    "st_2.format(num_1, num_2)"
   ]
  },
  {
   "cell_type": "markdown",
   "id": "502bc991",
   "metadata": {},
   "source": [
    "# Built in function in python string:\n"
   ]
  },
  {
   "cell_type": "markdown",
   "id": "57acdd93",
   "metadata": {},
   "source": [
    "### 1.\tcount(): "
   ]
  },
  {
   "cell_type": "markdown",
   "id": "04f0a9e6",
   "metadata": {},
   "source": [
    "If we want to find the number of occurance of a particular substring in the string, then we can use count()."
   ]
  },
  {
   "cell_type": "code",
   "execution_count": 66,
   "id": "da03d6cf",
   "metadata": {},
   "outputs": [
    {
     "data": {
      "text/plain": [
       "2"
      ]
     },
     "execution_count": 66,
     "metadata": {},
     "output_type": "execute_result"
    }
   ],
   "source": [
    "str=\"Hello Python\"\n",
    "str.count(\"l\")\n"
   ]
  },
  {
   "cell_type": "markdown",
   "id": "4933ca83",
   "metadata": {},
   "source": [
    "### 2.\tcapitalize():"
   ]
  },
  {
   "cell_type": "markdown",
   "id": "8e5d79fc",
   "metadata": {},
   "source": [
    "Convert the first character to upper case."
   ]
  },
  {
   "cell_type": "code",
   "execution_count": 67,
   "id": "bac9efce",
   "metadata": {},
   "outputs": [
    {
     "data": {
      "text/plain": [
       "'Soumya'"
      ]
     },
     "execution_count": 67,
     "metadata": {},
     "output_type": "execute_result"
    }
   ],
   "source": [
    "name = \"soumya\"\n",
    "name.capitalize()"
   ]
  },
  {
   "cell_type": "markdown",
   "id": "84c460c4",
   "metadata": {},
   "source": [
    "### 3.\tupper():"
   ]
  },
  {
   "cell_type": "markdown",
   "id": "e99e36f9",
   "metadata": {},
   "source": [
    "It will convert the entire string into upper case."
   ]
  },
  {
   "cell_type": "code",
   "execution_count": 69,
   "id": "114a8fb1",
   "metadata": {},
   "outputs": [
    {
     "data": {
      "text/plain": [
       "'SOUMYA'"
      ]
     },
     "execution_count": 69,
     "metadata": {},
     "output_type": "execute_result"
    }
   ],
   "source": [
    "name = \"Soumya\"\n",
    "name.upper()"
   ]
  },
  {
   "cell_type": "markdown",
   "id": "27a88db7",
   "metadata": {},
   "source": [
    "### 4.\tlower():"
   ]
  },
  {
   "cell_type": "markdown",
   "id": "ce5499d3",
   "metadata": {},
   "source": [
    "It will convert the entire string into lower case."
   ]
  },
  {
   "cell_type": "code",
   "execution_count": 71,
   "id": "f85e176a",
   "metadata": {},
   "outputs": [
    {
     "data": {
      "text/plain": [
       "'soumya'"
      ]
     },
     "execution_count": 71,
     "metadata": {},
     "output_type": "execute_result"
    }
   ],
   "source": [
    "name = \"SOUMYA\"\n",
    "name.lower()"
   ]
  },
  {
   "cell_type": "markdown",
   "id": "335e19eb",
   "metadata": {},
   "source": [
    "### 5.\tislower():"
   ]
  },
  {
   "cell_type": "markdown",
   "id": "9f194232",
   "metadata": {},
   "source": [
    "It will check all the letters in a string is in lower case or not. It will give output in Boolean format."
   ]
  },
  {
   "cell_type": "code",
   "execution_count": 72,
   "id": "788d5ca6",
   "metadata": {},
   "outputs": [
    {
     "data": {
      "text/plain": [
       "True"
      ]
     },
     "execution_count": 72,
     "metadata": {},
     "output_type": "execute_result"
    }
   ],
   "source": [
    "str = \"python\"\n",
    "str.islower()"
   ]
  },
  {
   "cell_type": "markdown",
   "id": "3c3439e0",
   "metadata": {},
   "source": [
    "### 6.\tisupper():"
   ]
  },
  {
   "cell_type": "markdown",
   "id": "a0162dae",
   "metadata": {},
   "source": [
    "It will check all the letters in a string is in upper case or not. It will give output in Boolean format."
   ]
  },
  {
   "cell_type": "code",
   "execution_count": 75,
   "id": "988bacad",
   "metadata": {},
   "outputs": [
    {
     "data": {
      "text/plain": [
       "False"
      ]
     },
     "execution_count": 75,
     "metadata": {},
     "output_type": "execute_result"
    }
   ],
   "source": [
    "str = \"python\"\n",
    "str.isupper()"
   ]
  },
  {
   "cell_type": "markdown",
   "id": "c3daf6fb",
   "metadata": {},
   "source": [
    "### 7.\tendswith():"
   ]
  },
  {
   "cell_type": "markdown",
   "id": "5f9728c4",
   "metadata": {},
   "source": [
    "Returns true if the string ends with the specified value."
   ]
  },
  {
   "cell_type": "code",
   "execution_count": 76,
   "id": "7ca412c6",
   "metadata": {},
   "outputs": [
    {
     "data": {
      "text/plain": [
       "True"
      ]
     },
     "execution_count": 76,
     "metadata": {},
     "output_type": "execute_result"
    }
   ],
   "source": [
    "str = \"I am reading python\"\n",
    "str.endswith(\"python\")"
   ]
  },
  {
   "cell_type": "markdown",
   "id": "0f0d64b0",
   "metadata": {},
   "source": [
    "### 8.\tstartswith():"
   ]
  },
  {
   "cell_type": "markdown",
   "id": "8860b320",
   "metadata": {},
   "source": [
    "Returns true if the string starts with specified value."
   ]
  },
  {
   "cell_type": "code",
   "execution_count": 77,
   "id": "2790159c",
   "metadata": {},
   "outputs": [
    {
     "data": {
      "text/plain": [
       "False"
      ]
     },
     "execution_count": 77,
     "metadata": {},
     "output_type": "execute_result"
    }
   ],
   "source": [
    "str = \"I am reading python\"\n",
    "str.startswith(\"python\")"
   ]
  },
  {
   "cell_type": "markdown",
   "id": "59877144",
   "metadata": {},
   "source": [
    "### 9.\tisalpha():"
   ]
  },
  {
   "cell_type": "markdown",
   "id": "5dbb848c",
   "metadata": {},
   "source": [
    "Returns True if all the characters in the string are alphabet. If there is numeric value or space, then it will return False."
   ]
  },
  {
   "cell_type": "code",
   "execution_count": 78,
   "id": "61f03d95",
   "metadata": {},
   "outputs": [
    {
     "data": {
      "text/plain": [
       "True"
      ]
     },
     "execution_count": 78,
     "metadata": {},
     "output_type": "execute_result"
    }
   ],
   "source": [
    "str = \"Soumya\"\n",
    "str.isalpha()"
   ]
  },
  {
   "cell_type": "markdown",
   "id": "dc37b72b",
   "metadata": {},
   "source": [
    "### 10.\tisdigit():"
   ]
  },
  {
   "cell_type": "markdown",
   "id": "66f38aa9",
   "metadata": {},
   "source": [
    "Returns true if all the character in the given string is only digits, otherwise false."
   ]
  },
  {
   "cell_type": "code",
   "execution_count": 83,
   "id": "7b79b7ba",
   "metadata": {},
   "outputs": [
    {
     "data": {
      "text/plain": [
       "True"
      ]
     },
     "execution_count": 83,
     "metadata": {},
     "output_type": "execute_result"
    }
   ],
   "source": [
    "num = \"123\"\n",
    "num.isdigit()"
   ]
  },
  {
   "cell_type": "markdown",
   "id": "641bc9ec",
   "metadata": {},
   "source": [
    "### 11.\tisalnum():"
   ]
  },
  {
   "cell_type": "markdown",
   "id": "ef19cc68",
   "metadata": {},
   "source": [
    "Returns true if all the characters in the string is alpha numeric, otherwise false."
   ]
  },
  {
   "cell_type": "code",
   "execution_count": 80,
   "id": "d004b7ff",
   "metadata": {},
   "outputs": [
    {
     "data": {
      "text/plain": [
       "True"
      ]
     },
     "execution_count": 80,
     "metadata": {},
     "output_type": "execute_result"
    }
   ],
   "source": [
    "num = \"Soumya123\"\n",
    "num.isalnum()"
   ]
  },
  {
   "cell_type": "markdown",
   "id": "40c7aef1",
   "metadata": {},
   "source": [
    "### 12.\tfind():"
   ]
  },
  {
   "cell_type": "markdown",
   "id": "9edcb589",
   "metadata": {},
   "source": [
    "Returns the index of  first occurance of the specified character in the given string, if specified value will not there, then it will return -1."
   ]
  },
  {
   "cell_type": "code",
   "execution_count": 84,
   "id": "2f64f7b2",
   "metadata": {},
   "outputs": [],
   "source": [
    "str = \"How are you\""
   ]
  },
  {
   "cell_type": "code",
   "execution_count": 85,
   "id": "d2ad7cec",
   "metadata": {},
   "outputs": [
    {
     "data": {
      "text/plain": [
       "5"
      ]
     },
     "execution_count": 85,
     "metadata": {},
     "output_type": "execute_result"
    }
   ],
   "source": [
    "str.find(\"r\")"
   ]
  },
  {
   "cell_type": "code",
   "execution_count": 87,
   "id": "2b0cb2c2",
   "metadata": {},
   "outputs": [
    {
     "data": {
      "text/plain": [
       "-1"
      ]
     },
     "execution_count": 87,
     "metadata": {},
     "output_type": "execute_result"
    }
   ],
   "source": [
    "str.find(\"i\")"
   ]
  },
  {
   "cell_type": "markdown",
   "id": "c845590b",
   "metadata": {},
   "source": [
    "### 13. replace(): "
   ]
  },
  {
   "cell_type": "markdown",
   "id": "2fd7b679",
   "metadata": {},
   "source": [
    "Returns a string where a specified value is replaced with a specified value."
   ]
  },
  {
   "cell_type": "code",
   "execution_count": 88,
   "id": "c7a0f0b6",
   "metadata": {},
   "outputs": [
    {
     "data": {
      "text/plain": [
       "'I love python'"
      ]
     },
     "execution_count": 88,
     "metadata": {},
     "output_type": "execute_result"
    }
   ],
   "source": [
    "str = \"I love java\"\n",
    "str.replace(\"java\", \"python\")"
   ]
  },
  {
   "cell_type": "markdown",
   "id": "b54d5765",
   "metadata": {},
   "source": [
    "### 14. split():"
   ]
  },
  {
   "cell_type": "markdown",
   "id": "4f606c9e",
   "metadata": {},
   "source": [
    "Splits the string at the specified separator, and returns a list."
   ]
  },
  {
   "cell_type": "code",
   "execution_count": 90,
   "id": "0423988b",
   "metadata": {},
   "outputs": [
    {
     "data": {
      "text/plain": [
       "['i', 'love', 'python']"
      ]
     },
     "execution_count": 90,
     "metadata": {},
     "output_type": "execute_result"
    }
   ],
   "source": [
    "str = \"i love python\"\n",
    "str.split(\" \")"
   ]
  },
  {
   "cell_type": "markdown",
   "id": "bb3e416d",
   "metadata": {},
   "source": [
    "### 15. join():"
   ]
  },
  {
   "cell_type": "markdown",
   "id": "2d9a3933",
   "metadata": {},
   "source": [
    "The join() method takes all items in an iterable and joins them into one string.\n",
    "\n"
   ]
  },
  {
   "cell_type": "code",
   "execution_count": 96,
   "id": "80f39713",
   "metadata": {},
   "outputs": [],
   "source": [
    "lst = [\"i\", \"want\", \"to\", \"be\", \"a\", \"data\", \"scientist\"]\n",
    "str = \" \".join(lst)"
   ]
  },
  {
   "cell_type": "code",
   "execution_count": 97,
   "id": "db03c787",
   "metadata": {},
   "outputs": [
    {
     "data": {
      "text/plain": [
       "'i want to be a data scientist'"
      ]
     },
     "execution_count": 97,
     "metadata": {},
     "output_type": "execute_result"
    }
   ],
   "source": [
    "str"
   ]
  },
  {
   "cell_type": "markdown",
   "id": "2de9daaa",
   "metadata": {},
   "source": [
    "# Type casting in python: "
   ]
  },
  {
   "cell_type": "markdown",
   "id": "00d04e70",
   "metadata": {},
   "source": [
    "The process of converting the value of one data type (integer, string, float, etc.) to another data type is called type conversion."
   ]
  },
  {
   "cell_type": "code",
   "execution_count": 103,
   "id": "40728c25",
   "metadata": {},
   "outputs": [],
   "source": [
    "x = 5"
   ]
  },
  {
   "cell_type": "code",
   "execution_count": 106,
   "id": "1bfefa66",
   "metadata": {},
   "outputs": [
    {
     "data": {
      "text/plain": [
       "int"
      ]
     },
     "execution_count": 106,
     "metadata": {},
     "output_type": "execute_result"
    }
   ],
   "source": [
    "type(x)"
   ]
  },
  {
   "cell_type": "code",
   "execution_count": 104,
   "id": "3e4a3e0d",
   "metadata": {},
   "outputs": [],
   "source": [
    "y = float(5)"
   ]
  },
  {
   "cell_type": "code",
   "execution_count": 105,
   "id": "98ccb8a8",
   "metadata": {},
   "outputs": [
    {
     "data": {
      "text/plain": [
       "5.0"
      ]
     },
     "execution_count": 105,
     "metadata": {},
     "output_type": "execute_result"
    }
   ],
   "source": [
    "y"
   ]
  },
  {
   "cell_type": "code",
   "execution_count": 107,
   "id": "ef1a3060",
   "metadata": {},
   "outputs": [
    {
     "data": {
      "text/plain": [
       "float"
      ]
     },
     "execution_count": 107,
     "metadata": {},
     "output_type": "execute_result"
    }
   ],
   "source": [
    "type(y)"
   ]
  },
  {
   "cell_type": "code",
   "execution_count": 108,
   "id": "533ea873",
   "metadata": {},
   "outputs": [],
   "source": [
    "a = \"15\""
   ]
  },
  {
   "cell_type": "code",
   "execution_count": 109,
   "id": "f9f528a1",
   "metadata": {},
   "outputs": [
    {
     "data": {
      "text/plain": [
       "str"
      ]
     },
     "execution_count": 109,
     "metadata": {},
     "output_type": "execute_result"
    }
   ],
   "source": [
    "type(a)"
   ]
  },
  {
   "cell_type": "code",
   "execution_count": 110,
   "id": "ca13d3f4",
   "metadata": {},
   "outputs": [],
   "source": [
    "b = int(a)"
   ]
  },
  {
   "cell_type": "code",
   "execution_count": 117,
   "id": "83e7aade",
   "metadata": {},
   "outputs": [
    {
     "data": {
      "text/plain": [
       "15"
      ]
     },
     "execution_count": 117,
     "metadata": {},
     "output_type": "execute_result"
    }
   ],
   "source": [
    "b"
   ]
  },
  {
   "cell_type": "code",
   "execution_count": 111,
   "id": "71a25f6f",
   "metadata": {},
   "outputs": [
    {
     "data": {
      "text/plain": [
       "int"
      ]
     },
     "execution_count": 111,
     "metadata": {},
     "output_type": "execute_result"
    }
   ],
   "source": [
    "type(b)"
   ]
  },
  {
   "cell_type": "code",
   "execution_count": 112,
   "id": "e923ce91",
   "metadata": {},
   "outputs": [],
   "source": [
    "c = 5.76"
   ]
  },
  {
   "cell_type": "code",
   "execution_count": 113,
   "id": "606c9602",
   "metadata": {},
   "outputs": [
    {
     "data": {
      "text/plain": [
       "float"
      ]
     },
     "execution_count": 113,
     "metadata": {},
     "output_type": "execute_result"
    }
   ],
   "source": [
    "type(c)"
   ]
  },
  {
   "cell_type": "code",
   "execution_count": 114,
   "id": "12c5df04",
   "metadata": {},
   "outputs": [],
   "source": [
    "d = int(c)"
   ]
  },
  {
   "cell_type": "code",
   "execution_count": 115,
   "id": "fe2412d6",
   "metadata": {},
   "outputs": [
    {
     "data": {
      "text/plain": [
       "5"
      ]
     },
     "execution_count": 115,
     "metadata": {},
     "output_type": "execute_result"
    }
   ],
   "source": [
    "d"
   ]
  },
  {
   "cell_type": "code",
   "execution_count": 116,
   "id": "8be2da52",
   "metadata": {},
   "outputs": [
    {
     "data": {
      "text/plain": [
       "int"
      ]
     },
     "execution_count": 116,
     "metadata": {},
     "output_type": "execute_result"
    }
   ],
   "source": [
    "type(d)"
   ]
  },
  {
   "cell_type": "markdown",
   "id": "54e5e0ae",
   "metadata": {},
   "source": [
    "# input and output in python: "
   ]
  },
  {
   "cell_type": "markdown",
   "id": "d6992bc1",
   "metadata": {},
   "source": [
    "In python, sometimes a developer wants to take input from the user. So to take input from the user there is a special function named as input()."
   ]
  },
  {
   "cell_type": "markdown",
   "id": "5553b797",
   "metadata": {},
   "source": [
    "•\tBy default python interpreter takes all input as  string format only. So, if we want to input some other value, then we have to mention that data type infront of input().\n",
    "\n"
   ]
  },
  {
   "cell_type": "markdown",
   "id": "ad1b052f",
   "metadata": {},
   "source": [
    " • To display output, python have function i.e. print().\n",
    "\n"
   ]
  },
  {
   "cell_type": "markdown",
   "id": "65e054ab",
   "metadata": {},
   "source": [
    "WAP to print your name by taking user input."
   ]
  },
  {
   "cell_type": "code",
   "execution_count": 98,
   "id": "660ab73b",
   "metadata": {},
   "outputs": [
    {
     "name": "stdout",
     "output_type": "stream",
     "text": [
      "Enter your name:soumya\n"
     ]
    }
   ],
   "source": [
    "name = input(\"Enter your name:\")                "
   ]
  },
  {
   "cell_type": "code",
   "execution_count": 101,
   "id": "239679cd",
   "metadata": {},
   "outputs": [
    {
     "name": "stdout",
     "output_type": "stream",
     "text": [
      "my name is soumya\n"
     ]
    }
   ],
   "source": [
    "print(\"my name is\",name)"
   ]
  },
  {
   "cell_type": "markdown",
   "id": "62260bd0",
   "metadata": {},
   "source": [
    "WAP to add two number by taking user input."
   ]
  },
  {
   "cell_type": "code",
   "execution_count": 102,
   "id": "ff689cdd",
   "metadata": {},
   "outputs": [
    {
     "name": "stdout",
     "output_type": "stream",
     "text": [
      "Enter a:5\n",
      "Enter b:7\n",
      "sum = 12\n"
     ]
    }
   ],
   "source": [
    "a = int(input(\"Enter a:\"))\n",
    "b = int(input(\"Enter b:\"))\n",
    "c = a+b\n",
    "print(\"sum =\", c)"
   ]
  },
  {
   "cell_type": "code",
   "execution_count": null,
   "id": "9597a93a",
   "metadata": {},
   "outputs": [],
   "source": []
  }
 ],
 "metadata": {
  "kernelspec": {
   "display_name": "Python 3 (ipykernel)",
   "language": "python",
   "name": "python3"
  },
  "language_info": {
   "codemirror_mode": {
    "name": "ipython",
    "version": 3
   },
   "file_extension": ".py",
   "mimetype": "text/x-python",
   "name": "python",
   "nbconvert_exporter": "python",
   "pygments_lexer": "ipython3",
   "version": "3.9.7"
  }
 },
 "nbformat": 4,
 "nbformat_minor": 5
}
